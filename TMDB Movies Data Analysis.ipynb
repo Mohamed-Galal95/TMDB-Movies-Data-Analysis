{
 "cells": [
  {
   "cell_type": "markdown",
   "id": "1956f1d7",
   "metadata": {},
   "source": [
    "# TMDB Movies Data Analysis"
   ]
  },
  {
   "cell_type": "markdown",
   "id": "c66a88e8",
   "metadata": {},
   "source": [
    "### Question(s) for Analysis\n",
    "#### Q1: Whice movies have most popularity?\n",
    "#### Q2: Which movies have large profit?\n",
    "#### Q3: Which year have most release movies?\n",
    "#### Q4: Which genres are most trends cross the years?\n",
    "#### Q5: There are a correlation between budget and revenue?"
   ]
  },
  {
   "cell_type": "markdown",
   "id": "b3c660f6",
   "metadata": {},
   "source": [
    "##### import the nesseray library [pandas,numpy, matplotlib]\n",
    "##### load dataset from CSV file into dataframe"
   ]
  },
  {
   "cell_type": "code",
   "execution_count": 1,
   "id": "b9f8e055",
   "metadata": {},
   "outputs": [],
   "source": [
    "import pandas as pd\n",
    "import numpy as np\n",
    "import matplotlib.pyplot as plt\n",
    "\n",
    "df_movie = pd.read_csv('tmdb-movies.csv')"
   ]
  },
  {
   "cell_type": "markdown",
   "id": "972080f3",
   "metadata": {},
   "source": [
    "##### show sample of data"
   ]
  },
  {
   "cell_type": "code",
   "execution_count": 2,
   "id": "81c56a44",
   "metadata": {},
   "outputs": [
    {
     "data": {
      "text/html": [
       "<div>\n",
       "<style scoped>\n",
       "    .dataframe tbody tr th:only-of-type {\n",
       "        vertical-align: middle;\n",
       "    }\n",
       "\n",
       "    .dataframe tbody tr th {\n",
       "        vertical-align: top;\n",
       "    }\n",
       "\n",
       "    .dataframe thead th {\n",
       "        text-align: right;\n",
       "    }\n",
       "</style>\n",
       "<table border=\"1\" class=\"dataframe\">\n",
       "  <thead>\n",
       "    <tr style=\"text-align: right;\">\n",
       "      <th></th>\n",
       "      <th>id</th>\n",
       "      <th>imdb_id</th>\n",
       "      <th>popularity</th>\n",
       "      <th>budget</th>\n",
       "      <th>revenue</th>\n",
       "      <th>original_title</th>\n",
       "      <th>cast</th>\n",
       "      <th>homepage</th>\n",
       "      <th>director</th>\n",
       "      <th>tagline</th>\n",
       "      <th>...</th>\n",
       "      <th>overview</th>\n",
       "      <th>runtime</th>\n",
       "      <th>genres</th>\n",
       "      <th>production_companies</th>\n",
       "      <th>release_date</th>\n",
       "      <th>vote_count</th>\n",
       "      <th>vote_average</th>\n",
       "      <th>release_year</th>\n",
       "      <th>budget_adj</th>\n",
       "      <th>revenue_adj</th>\n",
       "    </tr>\n",
       "  </thead>\n",
       "  <tbody>\n",
       "    <tr>\n",
       "      <th>0</th>\n",
       "      <td>135397</td>\n",
       "      <td>tt0369610</td>\n",
       "      <td>32.985763</td>\n",
       "      <td>150000000</td>\n",
       "      <td>1513528810</td>\n",
       "      <td>Jurassic World</td>\n",
       "      <td>Chris Pratt|Bryce Dallas Howard|Irrfan Khan|Vi...</td>\n",
       "      <td>http://www.jurassicworld.com/</td>\n",
       "      <td>Colin Trevorrow</td>\n",
       "      <td>The park is open.</td>\n",
       "      <td>...</td>\n",
       "      <td>Twenty-two years after the events of Jurassic ...</td>\n",
       "      <td>124</td>\n",
       "      <td>Action|Adventure|Science Fiction|Thriller</td>\n",
       "      <td>Universal Studios|Amblin Entertainment|Legenda...</td>\n",
       "      <td>6/9/15</td>\n",
       "      <td>5562</td>\n",
       "      <td>6.5</td>\n",
       "      <td>2015</td>\n",
       "      <td>1.379999e+08</td>\n",
       "      <td>1.392446e+09</td>\n",
       "    </tr>\n",
       "    <tr>\n",
       "      <th>1</th>\n",
       "      <td>76341</td>\n",
       "      <td>tt1392190</td>\n",
       "      <td>28.419936</td>\n",
       "      <td>150000000</td>\n",
       "      <td>378436354</td>\n",
       "      <td>Mad Max: Fury Road</td>\n",
       "      <td>Tom Hardy|Charlize Theron|Hugh Keays-Byrne|Nic...</td>\n",
       "      <td>http://www.madmaxmovie.com/</td>\n",
       "      <td>George Miller</td>\n",
       "      <td>What a Lovely Day.</td>\n",
       "      <td>...</td>\n",
       "      <td>An apocalyptic story set in the furthest reach...</td>\n",
       "      <td>120</td>\n",
       "      <td>Action|Adventure|Science Fiction|Thriller</td>\n",
       "      <td>Village Roadshow Pictures|Kennedy Miller Produ...</td>\n",
       "      <td>5/13/15</td>\n",
       "      <td>6185</td>\n",
       "      <td>7.1</td>\n",
       "      <td>2015</td>\n",
       "      <td>1.379999e+08</td>\n",
       "      <td>3.481613e+08</td>\n",
       "    </tr>\n",
       "    <tr>\n",
       "      <th>2</th>\n",
       "      <td>262500</td>\n",
       "      <td>tt2908446</td>\n",
       "      <td>13.112507</td>\n",
       "      <td>110000000</td>\n",
       "      <td>295238201</td>\n",
       "      <td>Insurgent</td>\n",
       "      <td>Shailene Woodley|Theo James|Kate Winslet|Ansel...</td>\n",
       "      <td>http://www.thedivergentseries.movie/#insurgent</td>\n",
       "      <td>Robert Schwentke</td>\n",
       "      <td>One Choice Can Destroy You</td>\n",
       "      <td>...</td>\n",
       "      <td>Beatrice Prior must confront her inner demons ...</td>\n",
       "      <td>119</td>\n",
       "      <td>Adventure|Science Fiction|Thriller</td>\n",
       "      <td>Summit Entertainment|Mandeville Films|Red Wago...</td>\n",
       "      <td>3/18/15</td>\n",
       "      <td>2480</td>\n",
       "      <td>6.3</td>\n",
       "      <td>2015</td>\n",
       "      <td>1.012000e+08</td>\n",
       "      <td>2.716190e+08</td>\n",
       "    </tr>\n",
       "    <tr>\n",
       "      <th>3</th>\n",
       "      <td>140607</td>\n",
       "      <td>tt2488496</td>\n",
       "      <td>11.173104</td>\n",
       "      <td>200000000</td>\n",
       "      <td>2068178225</td>\n",
       "      <td>Star Wars: The Force Awakens</td>\n",
       "      <td>Harrison Ford|Mark Hamill|Carrie Fisher|Adam D...</td>\n",
       "      <td>http://www.starwars.com/films/star-wars-episod...</td>\n",
       "      <td>J.J. Abrams</td>\n",
       "      <td>Every generation has a story.</td>\n",
       "      <td>...</td>\n",
       "      <td>Thirty years after defeating the Galactic Empi...</td>\n",
       "      <td>136</td>\n",
       "      <td>Action|Adventure|Science Fiction|Fantasy</td>\n",
       "      <td>Lucasfilm|Truenorth Productions|Bad Robot</td>\n",
       "      <td>12/15/15</td>\n",
       "      <td>5292</td>\n",
       "      <td>7.5</td>\n",
       "      <td>2015</td>\n",
       "      <td>1.839999e+08</td>\n",
       "      <td>1.902723e+09</td>\n",
       "    </tr>\n",
       "    <tr>\n",
       "      <th>4</th>\n",
       "      <td>168259</td>\n",
       "      <td>tt2820852</td>\n",
       "      <td>9.335014</td>\n",
       "      <td>190000000</td>\n",
       "      <td>1506249360</td>\n",
       "      <td>Furious 7</td>\n",
       "      <td>Vin Diesel|Paul Walker|Jason Statham|Michelle ...</td>\n",
       "      <td>http://www.furious7.com/</td>\n",
       "      <td>James Wan</td>\n",
       "      <td>Vengeance Hits Home</td>\n",
       "      <td>...</td>\n",
       "      <td>Deckard Shaw seeks revenge against Dominic Tor...</td>\n",
       "      <td>137</td>\n",
       "      <td>Action|Crime|Thriller</td>\n",
       "      <td>Universal Pictures|Original Film|Media Rights ...</td>\n",
       "      <td>4/1/15</td>\n",
       "      <td>2947</td>\n",
       "      <td>7.3</td>\n",
       "      <td>2015</td>\n",
       "      <td>1.747999e+08</td>\n",
       "      <td>1.385749e+09</td>\n",
       "    </tr>\n",
       "  </tbody>\n",
       "</table>\n",
       "<p>5 rows × 21 columns</p>\n",
       "</div>"
      ],
      "text/plain": [
       "       id    imdb_id  popularity     budget     revenue  \\\n",
       "0  135397  tt0369610   32.985763  150000000  1513528810   \n",
       "1   76341  tt1392190   28.419936  150000000   378436354   \n",
       "2  262500  tt2908446   13.112507  110000000   295238201   \n",
       "3  140607  tt2488496   11.173104  200000000  2068178225   \n",
       "4  168259  tt2820852    9.335014  190000000  1506249360   \n",
       "\n",
       "                 original_title  \\\n",
       "0                Jurassic World   \n",
       "1            Mad Max: Fury Road   \n",
       "2                     Insurgent   \n",
       "3  Star Wars: The Force Awakens   \n",
       "4                     Furious 7   \n",
       "\n",
       "                                                cast  \\\n",
       "0  Chris Pratt|Bryce Dallas Howard|Irrfan Khan|Vi...   \n",
       "1  Tom Hardy|Charlize Theron|Hugh Keays-Byrne|Nic...   \n",
       "2  Shailene Woodley|Theo James|Kate Winslet|Ansel...   \n",
       "3  Harrison Ford|Mark Hamill|Carrie Fisher|Adam D...   \n",
       "4  Vin Diesel|Paul Walker|Jason Statham|Michelle ...   \n",
       "\n",
       "                                            homepage          director  \\\n",
       "0                      http://www.jurassicworld.com/   Colin Trevorrow   \n",
       "1                        http://www.madmaxmovie.com/     George Miller   \n",
       "2     http://www.thedivergentseries.movie/#insurgent  Robert Schwentke   \n",
       "3  http://www.starwars.com/films/star-wars-episod...       J.J. Abrams   \n",
       "4                           http://www.furious7.com/         James Wan   \n",
       "\n",
       "                         tagline  ...  \\\n",
       "0              The park is open.  ...   \n",
       "1             What a Lovely Day.  ...   \n",
       "2     One Choice Can Destroy You  ...   \n",
       "3  Every generation has a story.  ...   \n",
       "4            Vengeance Hits Home  ...   \n",
       "\n",
       "                                            overview runtime  \\\n",
       "0  Twenty-two years after the events of Jurassic ...     124   \n",
       "1  An apocalyptic story set in the furthest reach...     120   \n",
       "2  Beatrice Prior must confront her inner demons ...     119   \n",
       "3  Thirty years after defeating the Galactic Empi...     136   \n",
       "4  Deckard Shaw seeks revenge against Dominic Tor...     137   \n",
       "\n",
       "                                      genres  \\\n",
       "0  Action|Adventure|Science Fiction|Thriller   \n",
       "1  Action|Adventure|Science Fiction|Thriller   \n",
       "2         Adventure|Science Fiction|Thriller   \n",
       "3   Action|Adventure|Science Fiction|Fantasy   \n",
       "4                      Action|Crime|Thriller   \n",
       "\n",
       "                                production_companies release_date vote_count  \\\n",
       "0  Universal Studios|Amblin Entertainment|Legenda...       6/9/15       5562   \n",
       "1  Village Roadshow Pictures|Kennedy Miller Produ...      5/13/15       6185   \n",
       "2  Summit Entertainment|Mandeville Films|Red Wago...      3/18/15       2480   \n",
       "3          Lucasfilm|Truenorth Productions|Bad Robot     12/15/15       5292   \n",
       "4  Universal Pictures|Original Film|Media Rights ...       4/1/15       2947   \n",
       "\n",
       "   vote_average  release_year    budget_adj   revenue_adj  \n",
       "0           6.5          2015  1.379999e+08  1.392446e+09  \n",
       "1           7.1          2015  1.379999e+08  3.481613e+08  \n",
       "2           6.3          2015  1.012000e+08  2.716190e+08  \n",
       "3           7.5          2015  1.839999e+08  1.902723e+09  \n",
       "4           7.3          2015  1.747999e+08  1.385749e+09  \n",
       "\n",
       "[5 rows x 21 columns]"
      ]
     },
     "execution_count": 2,
     "metadata": {},
     "output_type": "execute_result"
    }
   ],
   "source": [
    "df_movie.head()"
   ]
  },
  {
   "cell_type": "markdown",
   "id": "3e68c0fe",
   "metadata": {},
   "source": [
    "##### Get some information about Dataset [n.column, n.record, datatype]"
   ]
  },
  {
   "cell_type": "code",
   "execution_count": 3,
   "id": "b0d1674e",
   "metadata": {},
   "outputs": [
    {
     "name": "stdout",
     "output_type": "stream",
     "text": [
      "<class 'pandas.core.frame.DataFrame'>\n",
      "RangeIndex: 10866 entries, 0 to 10865\n",
      "Data columns (total 21 columns):\n",
      " #   Column                Non-Null Count  Dtype  \n",
      "---  ------                --------------  -----  \n",
      " 0   id                    10866 non-null  int64  \n",
      " 1   imdb_id               10856 non-null  object \n",
      " 2   popularity            10866 non-null  float64\n",
      " 3   budget                10866 non-null  int64  \n",
      " 4   revenue               10866 non-null  int64  \n",
      " 5   original_title        10866 non-null  object \n",
      " 6   cast                  10790 non-null  object \n",
      " 7   homepage              2936 non-null   object \n",
      " 8   director              10822 non-null  object \n",
      " 9   tagline               8042 non-null   object \n",
      " 10  keywords              9373 non-null   object \n",
      " 11  overview              10862 non-null  object \n",
      " 12  runtime               10866 non-null  int64  \n",
      " 13  genres                10843 non-null  object \n",
      " 14  production_companies  9836 non-null   object \n",
      " 15  release_date          10866 non-null  object \n",
      " 16  vote_count            10866 non-null  int64  \n",
      " 17  vote_average          10866 non-null  float64\n",
      " 18  release_year          10866 non-null  int64  \n",
      " 19  budget_adj            10866 non-null  float64\n",
      " 20  revenue_adj           10866 non-null  float64\n",
      "dtypes: float64(4), int64(6), object(11)\n",
      "memory usage: 1.7+ MB\n"
     ]
    }
   ],
   "source": [
    "df_movie.info()"
   ]
  },
  {
   "cell_type": "markdown",
   "id": "b854937c",
   "metadata": {},
   "source": [
    "Dataset have 10866 records and 21 columns"
   ]
  },
  {
   "cell_type": "markdown",
   "id": "7424b501",
   "metadata": {},
   "source": [
    "###### Find number of Duplicated value"
   ]
  },
  {
   "cell_type": "code",
   "execution_count": 4,
   "id": "019d8640",
   "metadata": {},
   "outputs": [
    {
     "data": {
      "text/plain": [
       "1"
      ]
     },
     "execution_count": 4,
     "metadata": {},
     "output_type": "execute_result"
    }
   ],
   "source": [
    "df_movie.duplicated().sum()"
   ]
  },
  {
   "cell_type": "markdown",
   "id": "6b62ad77",
   "metadata": {},
   "source": [
    "###### Drop duplicated row"
   ]
  },
  {
   "cell_type": "code",
   "execution_count": 5,
   "id": "132e1fd1",
   "metadata": {},
   "outputs": [],
   "source": [
    "df_movie.drop_duplicates(inplace=True)"
   ]
  },
  {
   "cell_type": "markdown",
   "id": "86b2c1a0",
   "metadata": {},
   "source": [
    "##### Drop columns in Dataset that will not affected on our questions mentioned above and insights"
   ]
  },
  {
   "cell_type": "code",
   "execution_count": 6,
   "id": "b6967a47",
   "metadata": {},
   "outputs": [],
   "source": [
    "df_movie.drop(['homepage','tagline','production_companies','keywords'], axis=1, inplace=True)"
   ]
  },
  {
   "cell_type": "markdown",
   "id": "67aa0b35",
   "metadata": {},
   "source": [
    "##### Find the null value in Dataset"
   ]
  },
  {
   "cell_type": "code",
   "execution_count": 7,
   "id": "b9df1cbe",
   "metadata": {},
   "outputs": [
    {
     "data": {
      "text/plain": [
       "id                 0\n",
       "imdb_id           10\n",
       "popularity         0\n",
       "budget             0\n",
       "revenue            0\n",
       "original_title     0\n",
       "cast              76\n",
       "director          44\n",
       "overview           4\n",
       "runtime            0\n",
       "genres            23\n",
       "release_date       0\n",
       "vote_count         0\n",
       "vote_average       0\n",
       "release_year       0\n",
       "budget_adj         0\n",
       "revenue_adj        0\n",
       "dtype: int64"
      ]
     },
     "execution_count": 7,
     "metadata": {},
     "output_type": "execute_result"
    }
   ],
   "source": [
    "df_movie.isnull().sum()"
   ]
  },
  {
   "cell_type": "markdown",
   "id": "962ec33d",
   "metadata": {},
   "source": [
    "##### Drop null value form Dataset"
   ]
  },
  {
   "cell_type": "code",
   "execution_count": 8,
   "id": "f4ebc0ff",
   "metadata": {},
   "outputs": [],
   "source": [
    "df_movie.dropna(inplace=True)"
   ]
  },
  {
   "cell_type": "markdown",
   "id": "8a3116d8",
   "metadata": {},
   "source": [
    "##### Check the Dataset after drop duplicated rows, null value and unnecessary columns"
   ]
  },
  {
   "cell_type": "code",
   "execution_count": 9,
   "id": "e29cf3ff",
   "metadata": {},
   "outputs": [
    {
     "name": "stdout",
     "output_type": "stream",
     "text": [
      "<class 'pandas.core.frame.DataFrame'>\n",
      "Int64Index: 10724 entries, 0 to 10865\n",
      "Data columns (total 17 columns):\n",
      " #   Column          Non-Null Count  Dtype  \n",
      "---  ------          --------------  -----  \n",
      " 0   id              10724 non-null  int64  \n",
      " 1   imdb_id         10724 non-null  object \n",
      " 2   popularity      10724 non-null  float64\n",
      " 3   budget          10724 non-null  int64  \n",
      " 4   revenue         10724 non-null  int64  \n",
      " 5   original_title  10724 non-null  object \n",
      " 6   cast            10724 non-null  object \n",
      " 7   director        10724 non-null  object \n",
      " 8   overview        10724 non-null  object \n",
      " 9   runtime         10724 non-null  int64  \n",
      " 10  genres          10724 non-null  object \n",
      " 11  release_date    10724 non-null  object \n",
      " 12  vote_count      10724 non-null  int64  \n",
      " 13  vote_average    10724 non-null  float64\n",
      " 14  release_year    10724 non-null  int64  \n",
      " 15  budget_adj      10724 non-null  float64\n",
      " 16  revenue_adj     10724 non-null  float64\n",
      "dtypes: float64(4), int64(6), object(7)\n",
      "memory usage: 1.5+ MB\n"
     ]
    }
   ],
   "source": [
    "df_movie.info()"
   ]
  },
  {
   "cell_type": "markdown",
   "id": "2ef0b1d7",
   "metadata": {},
   "source": [
    "### Q1: Which movies have most popularity?"
   ]
  },
  {
   "cell_type": "code",
   "execution_count": 10,
   "id": "8118bcfe",
   "metadata": {},
   "outputs": [
    {
     "data": {
      "image/png": "[encoded data removed]",
      "text/plain": [
       "<Figure size 720x360 with 1 Axes>"
      ]
     },
     "metadata": {
      "needs_background": "light"
     },
     "output_type": "display_data"
    }
   ],
   "source": [
    "sorted_movies = df_movie.sort_values(by='popularity', ascending=False)\n",
    "title = sorted_movies.original_title[:10]\n",
    "\n",
    "plt.subplots(figsize=(10,5))\n",
    "plt.gca().invert_yaxis()\n",
    "plt.title('Popular movies')\n",
    "plt.ylabel('Movies')\n",
    "plt.xlabel(\"The Popularity\")\n",
    "plt.barh(title, sorted_movies['popularity'].head(10));"
   ]
  },
  {
   "cell_type": "markdown",
   "id": "5a17601c",
   "metadata": {},
   "source": [
    "The plot above give us a visulaize about Which movies have most popularity:\n",
    "- \"Jurassic World\" then \"Mad Max\" and \"Fury Road\""
   ]
  },
  {
   "cell_type": "markdown",
   "id": "18dbf38b",
   "metadata": {},
   "source": [
    "### Q2: Which movies have large profit?"
   ]
  },
  {
   "cell_type": "markdown",
   "id": "1d324c33",
   "metadata": {},
   "source": [
    "#### budget column has values in some records equel zero\n",
    "#### So, we replace the 0s values with mean to get approximiate value"
   ]
  },
  {
   "cell_type": "code",
   "execution_count": 11,
   "id": "1e33996a",
   "metadata": {},
   "outputs": [],
   "source": [
    "df_movie['budget'].replace(0,df_movie['budget'].mean(), inplace=True)"
   ]
  },
  {
   "cell_type": "code",
   "execution_count": 12,
   "id": "ee907042",
   "metadata": {},
   "outputs": [
    {
     "data": {
      "text/html": [
       "<div>\n",
       "<style scoped>\n",
       "    .dataframe tbody tr th:only-of-type {\n",
       "        vertical-align: middle;\n",
       "    }\n",
       "\n",
       "    .dataframe tbody tr th {\n",
       "        vertical-align: top;\n",
       "    }\n",
       "\n",
       "    .dataframe thead th {\n",
       "        text-align: right;\n",
       "    }\n",
       "</style>\n",
       "<table border=\"1\" class=\"dataframe\">\n",
       "  <thead>\n",
       "    <tr style=\"text-align: right;\">\n",
       "      <th></th>\n",
       "      <th>id</th>\n",
       "      <th>imdb_id</th>\n",
       "      <th>popularity</th>\n",
       "      <th>budget</th>\n",
       "      <th>revenue</th>\n",
       "      <th>original_title</th>\n",
       "      <th>cast</th>\n",
       "      <th>director</th>\n",
       "      <th>overview</th>\n",
       "      <th>runtime</th>\n",
       "      <th>genres</th>\n",
       "      <th>release_date</th>\n",
       "      <th>vote_count</th>\n",
       "      <th>vote_average</th>\n",
       "      <th>release_year</th>\n",
       "      <th>budget_adj</th>\n",
       "      <th>revenue_adj</th>\n",
       "    </tr>\n",
       "  </thead>\n",
       "  <tbody>\n",
       "  </tbody>\n",
       "</table>\n",
       "</div>"
      ],
      "text/plain": [
       "Empty DataFrame\n",
       "Columns: [id, imdb_id, popularity, budget, revenue, original_title, cast, director, overview, runtime, genres, release_date, vote_count, vote_average, release_year, budget_adj, revenue_adj]\n",
       "Index: []"
      ]
     },
     "execution_count": 12,
     "metadata": {},
     "output_type": "execute_result"
    }
   ],
   "source": [
    "# check there are no 0s values in budget column : should'nt return any records\n",
    "df_movie[df_movie['budget'] == 0]"
   ]
  },
  {
   "cell_type": "markdown",
   "id": "9bdcfe86",
   "metadata": {},
   "source": [
    "##### Calculate the profit: profit = revenue - budget"
   ]
  },
  {
   "cell_type": "code",
   "execution_count": 13,
   "id": "f58b79a9",
   "metadata": {},
   "outputs": [],
   "source": [
    "df_movie['profit'] = df_movie['revenue'] - df_movie['budget']"
   ]
  },
  {
   "cell_type": "code",
   "execution_count": 14,
   "id": "780c8183",
   "metadata": {},
   "outputs": [
    {
     "data": {
      "image/png": "[encoded data removed]",
      "text/plain": [
       "<Figure size 720x360 with 1 Axes>"
      ]
     },
     "metadata": {
      "needs_background": "light"
     },
     "output_type": "display_data"
    }
   ],
   "source": [
    "sorted_movies_pr = df_movie.sort_values(by='profit', ascending=False)\n",
    "\n",
    "plt.subplots(figsize=(10,5))\n",
    "plt.gca().invert_yaxis()\n",
    "plt.title('Highest movies profit')\n",
    "plt.ylabel('Movies')\n",
    "plt.xlabel(\"The Profit ($)\")\n",
    "plt.barh(sorted_movies_pr.original_title.head(10), sorted_movies_pr.profit.head(10));"
   ]
  },
  {
   "cell_type": "markdown",
   "id": "21b9f1f9",
   "metadata": {},
   "source": [
    "The plot above give us a visulaize about which movies have large profit:\n",
    "- \"Avatar\" then \"Star Wars\" and \"The Force Awakens\""
   ]
  },
  {
   "cell_type": "markdown",
   "id": "c0598d84",
   "metadata": {},
   "source": [
    "### Q3: Which year have most release movies?"
   ]
  },
  {
   "cell_type": "code",
   "execution_count": 15,
   "id": "3d2ff3c8",
   "metadata": {},
   "outputs": [
    {
     "data": {
      "image/png": "[encoded data removed]",
      "text/plain": [
       "<Figure size 720x360 with 1 Axes>"
      ]
     },
     "metadata": {
      "needs_background": "light"
     },
     "output_type": "display_data"
    }
   ],
   "source": [
    "df = df_movie.groupby('release_year')['original_title'].count()\n",
    "plt.subplots(figsize=(10,5))\n",
    "df.plot()\n",
    "plt.title('No. movies cross the Years')\n",
    "plt.ylabel('No. movies')\n",
    "plt.xlabel('Years')\n",
    "plt.xticks(range(1960,2016,5));"
   ]
  },
  {
   "cell_type": "markdown",
   "id": "8f3b9b0b",
   "metadata": {},
   "source": [
    "The plot above give us a visulaize about Which year have most release movies cross the years:\n",
    "- 2014:(682), 2013:(648) and 2015:(617)"
   ]
  },
  {
   "cell_type": "markdown",
   "id": "f6a55dd7",
   "metadata": {},
   "source": [
    "### Q4: Which genres are most trends cross the years?"
   ]
  },
  {
   "cell_type": "code",
   "execution_count": 16,
   "id": "d0a159dc",
   "metadata": {},
   "outputs": [
    {
     "data": {
      "text/plain": [
       "Text(0.5, 1.0, 'Genres are most trend')"
      ]
     },
     "execution_count": 16,
     "metadata": {},
     "output_type": "execute_result"
    },
    {
     "data": {
      "image/png": "[encoded data removed]",
      "text/plain": [
       "<Figure size 1440x720 with 1 Axes>"
      ]
     },
     "metadata": {
      "needs_background": "light"
     },
     "output_type": "display_data"
    }
   ],
   "source": [
    "l=[]\n",
    "\n",
    "for c in df_movie['genres'].str.split(\"|\"):\n",
    "    for k in range(len(c)):\n",
    "        l.append(c[k])\n",
    "uni_list = list(set(l))\n",
    "\n",
    "kind,cou = [],[]\n",
    "for uni in uni_list:\n",
    "    kind.append(uni)\n",
    "    cou.append(l.count(uni))\n",
    "    \n",
    "df = pd.DataFrame(zip(kind,cou),columns=['kind','cou'])\n",
    "df.sort_values(by='cou', ascending=True, inplace=True)\n",
    "\n",
    "plt.subplots(figsize=(20,10))\n",
    "\n",
    "plt.barh(df['kind'],df['cou']);\n",
    "plt.ylabel('genres')\n",
    "plt.xlabel('count of genres')\n",
    "plt.title('Genres are most trend')"
   ]
  },
  {
   "cell_type": "markdown",
   "id": "48bf263e",
   "metadata": {},
   "source": [
    "After visulaization the analysiz we can finding \"Which genres are most trends cross the years (1960-2015)?\"\n",
    "- Drama is the most genres trends more than 4000 times, then Comedy about 4000 times and then Thriller about 3000 times"
   ]
  },
  {
   "cell_type": "markdown",
   "id": "06635585",
   "metadata": {},
   "source": [
    "### Q5: There are a correlation between budget and revenue?"
   ]
  },
  {
   "cell_type": "code",
   "execution_count": 29,
   "id": "8d7133dd",
   "metadata": {},
   "outputs": [
    {
     "data": {
      "image/png": "[encoded data removed]",
      "text/plain": [
       "<Figure size 432x288 with 1 Axes>"
      ]
     },
     "metadata": {
      "needs_background": "light"
     },
     "output_type": "display_data"
    }
   ],
   "source": [
    "plt.scatter(df_movie['budget'],df_movie['revenue']);"
   ]
  },
  {
   "cell_type": "markdown",
   "id": "a0142a79",
   "metadata": {},
   "source": [
    "The plot above show there are a correlation skewed to right that means The higher the budget, the higher the revenue"
   ]
  },
  {
   "cell_type": "markdown",
   "id": "619725fa",
   "metadata": {},
   "source": [
    "## Conclusion"
   ]
  },
  {
   "cell_type": "markdown",
   "id": "af8d0380",
   "metadata": {},
   "source": [
    "#### Limitations\n",
    "During the exploration of dataset there are some limitations in the dataset:\n",
    "- in Budget column there are many 0s values and this not acceptable (movies with no Budget! How!!?), So we can replace it with mean of Budget all the specific years and this may affected un accurate insights\n",
    "- Drop null value will affected on insights \n",
    "- We have used TMBD Movies dataset for our analysis and worked with popularity, revenue and runtime. Our analysis is limited to only the provided dataset. For example, the dataset does not confirm that every release of every director is listed"
   ]
  },
  {
   "cell_type": "markdown",
   "id": "0ab75bac",
   "metadata": {},
   "source": [
    "After making this analysis about TMDB movies dataset and Wrangling data and do exploratary we can summery this report into following points:\n",
    "- The most popular movies is \"Jurassic World\" then Mad Max: Fury Road \n",
    "- The highest movies profit is \"Avatar\" then \"Star Wars: The Force Awakens\"\n",
    "- The most years have release movies is 2014:(682), 2013:(648) and 2015:(617)\n",
    "- The most genres trends cross the year is Drama, Comedy and Thriller\n",
    "- The correlation between budget and revenue skewed to right that means The higher the budget, the higher the revenue"
   ]
  },
  {
   "cell_type": "code",
   "execution_count": null,
   "id": "85d272d0",
   "metadata": {},
   "outputs": [],
   "source": []
  }
 ],
 "metadata": {
  "kernelspec": {
   "display_name": "Python 3",
   "language": "python",
   "name": "python3"
  },
  "language_info": {
   "codemirror_mode": {
    "name": "ipython",
    "version": 3
   },
   "file_extension": ".py",
   "mimetype": "text/x-python",
   "name": "python",
   "nbconvert_exporter": "python",
   "pygments_lexer": "ipython3",
   "version": "3.8.8"
  }
 },
 "nbformat": 4,
 "nbformat_minor": 5
}
